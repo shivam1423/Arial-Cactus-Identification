{
 "cells": [
  {
   "cell_type": "code",
   "execution_count": 1,
   "metadata": {
    "_cell_guid": "b1076dfc-b9ad-4769-8c92-a6c4dae69d19",
    "_uuid": "8f2839f25d086af736a60e9eeb907d3b93b6e0e5"
   },
   "outputs": [
    {
     "name": "stdout",
     "output_type": "stream",
     "text": [
      "['train', 'test', 'train.csv', 'sample_submission.csv']\n"
     ]
    }
   ],
   "source": [
    "import numpy as np ",
    "import pandas as pd ",
    "from PIL import Image\n",
    "import matplotlib.pyplot as plt\n",
    "# Input data files are available in the \"../input/\" directory.\n",
    "# For example, running this (by clicking run or pressing Shift+Enter) will list the files in the input directory\n",
    "import cv2\n",
    "import os\n",
    "print(os.listdir(\"../input\"))\n",
    "from tqdm import tqdm, tqdm_notebook\n",
    "# Any results you write to the current directory are saved as output."
   ]
  },
  {
   "cell_type": "markdown",
   "metadata": {},
   "source": []
  },
  {
   "cell_type": "code",
   "execution_count": 2,
   "metadata": {
    "_cell_guid": "79c7e3d0-c299-4dcb-8224-4455121ee9b0",
    "_uuid": "d629ff2d2480ee46fbb7e2d37f6b5fab8052498a"
   },
   "outputs": [],
   "source": [
    "train_images= os.listdir(\"../input/train/train/\")\n",
    "train_dir = \"../input/train/train/\"\n",
    "test_dir = \"../input/test/test/\"\n",
    "test_images= os.listdir(\"../input/test/test/\")\n",
    "label_df = pd.read_csv('../input/train.csv')\n",
    "train_labels=label_df['has_cactus']"
   ]
  },
  {
   "cell_type": "code",
   "execution_count": 3,
   "metadata": {},
   "outputs": [
    {
     "data": {
      "application/vnd.jupyter.widget-view+json": {
       "model_id": "e9695e32f0bc471fae0dcc24b2b5af86",
       "version_major": 2,
       "version_minor": 0
      },
      "text/plain": [
       "HBox(children=(IntProgress(value=0, max=17500), HTML(value='')))"
      ]
     },
     "metadata": {},
     "output_type": "display_data"
    },
    {
     "name": "stdout",
     "output_type": "stream",
     "text": [
      "\n"
     ]
    }
   ],
   "source": [
    "X_tr = []\n",
    "Y_tr = []\n",
    "imges = label_df['id'].values\n",
    "for img_id in tqdm_notebook(imges):\n",
    "    X_tr.append(cv2.imread(train_dir + img_id))    \n",
    "    Y_tr.append(label_df[label_df['id'] == img_id]['has_cactus'].values[0])  \n",
    "X_tr = np.asarray(X_tr)\n",
    "X_tr = X_tr.astype('float32')\n",
    "X_tr /= 255\n",
    "#Y_tr = np.asarray(Y_tr)"
   ]
  },
  {
   "cell_type": "code",
   "execution_count": 4,
   "metadata": {},
   "outputs": [
    {
     "name": "stderr",
     "output_type": "stream",
     "text": [
      "Using TensorFlow backend.\n"
     ]
    }
   ],
   "source": [
    "from keras.utils import to_categorical\n",
    "Y_tr = to_categorical(train_labels, num_classes =2)"
   ]
  },
  {
   "cell_type": "code",
   "execution_count": 5,
   "metadata": {},
   "outputs": [
    {
     "ename": "NameError",
     "evalue": "name 'X_train' is not defined",
     "output_type": "error",
     "traceback": [
      "\u001b[0;31m---------------------------------------------------------------------------\u001b[0m",
      "\u001b[0;31mNameError\u001b[0m                                 Traceback (most recent call last)",
      "\u001b[0;32m<ipython-input-5-d2ba684acd0f>\u001b[0m in \u001b[0;36m<module>\u001b[0;34m()\u001b[0m\n\u001b[0;32m----> 1\u001b[0;31m \u001b[0mX_train\u001b[0m\u001b[0;34m.\u001b[0m\u001b[0mshape\u001b[0m\u001b[0;34m\u001b[0m\u001b[0m\n\u001b[0m",
      "\u001b[0;31mNameError\u001b[0m: name 'X_train' is not defined"
     ]
    }
   ],
   "source": [
    "X_train.shape"
   ]
  },
  {
   "cell_type": "code",
   "execution_count": 6,
   "metadata": {},
   "outputs": [
    {
     "name": "stdout",
     "output_type": "stream",
     "text": [
      "WARNING:tensorflow:From /opt/conda/lib/python3.6/site-packages/tensorflow/python/ops/resource_variable_ops.py:435: colocate_with (from tensorflow.python.framework.ops) is deprecated and will be removed in a future version.\n",
      "Instructions for updating:\n",
      "Colocations handled automatically by placer.\n",
      "Downloading data from https://github.com/fchollet/deep-learning-models/releases/download/v0.2/resnet50_weights_tf_dim_ordering_tf_kernels_notop.h5\n",
      "94658560/94653016 [==============================] - 1s 0us/step\n"
     ]
    }
   ],
   "source": [
    "from tensorflow.python.keras.applications import ResNet50\n",
    "from tensorflow.python.keras.models import Sequential\n",
    "from tensorflow.python.keras.layers import Dense,Dropout, Flatten, GlobalAveragePooling2D\n",
    "\n",
    "resnet_weights_path ='imagenet'\n",
    "my_new_model = Sequential()\n",
    "my_new_model.add(ResNet50(include_top=False, pooling='avg', weights=resnet_weights_path))\n",
    "my_new_model.add(Dense(256, activation='relu'))\n",
    "#my_new_model.add(Dropout(0.5))\n",
    "my_new_model.add(Dense(2, activation='softmax'))\n",
    "# Say not to train first layer (ResNet) model. It is already trained\n",
    "my_new_model.layers[0].trainable = False\n",
    "\n",
    "my_new_model.compile(optimizer='adam',loss='binary_crossentropy',metrics=['accuracy'])"
   ]
  },
  {
   "cell_type": "code",
   "execution_count": 7,
   "metadata": {},
   "outputs": [
    {
     "name": "stdout",
     "output_type": "stream",
     "text": [
      "Train on 15750 samples, validate on 1750 samples\n",
      "WARNING:tensorflow:From /opt/conda/lib/python3.6/site-packages/tensorflow/python/ops/math_ops.py:3066: to_int32 (from tensorflow.python.ops.math_ops) is deprecated and will be removed in a future version.\n",
      "Instructions for updating:\n",
      "Use tf.cast instead.\n",
      "Epoch 1/200\n",
      " - 15s - loss: 0.1801 - acc: 0.9337 - val_loss: 4.0671 - val_acc: 0.7463\n",
      "Epoch 2/200\n",
      " - 9s - loss: 0.1164 - acc: 0.9546 - val_loss: 1.3623 - val_acc: 0.5994\n",
      "Epoch 3/200\n",
      " - 9s - loss: 0.1114 - acc: 0.9564 - val_loss: 0.1169 - val_acc: 0.9543\n",
      "Epoch 4/200\n",
      " - 9s - loss: 0.0926 - acc: 0.9653 - val_loss: 0.1361 - val_acc: 0.9480\n",
      "Epoch 5/200\n",
      " - 9s - loss: 0.0903 - acc: 0.9648 - val_loss: 0.0902 - val_acc: 0.9629\n",
      "Epoch 6/200\n",
      " - 9s - loss: 0.0877 - acc: 0.9663 - val_loss: 0.0961 - val_acc: 0.9663\n",
      "Epoch 7/200\n",
      " - 9s - loss: 0.0828 - acc: 0.9697 - val_loss: 0.1171 - val_acc: 0.9594\n",
      "Epoch 8/200\n",
      " - 9s - loss: 0.0805 - acc: 0.9703 - val_loss: 0.0966 - val_acc: 0.9617\n",
      "Epoch 9/200\n",
      " - 9s - loss: 0.0789 - acc: 0.9704 - val_loss: 0.1061 - val_acc: 0.9611\n",
      "Epoch 10/200\n",
      " - 9s - loss: 0.0693 - acc: 0.9739 - val_loss: 0.1463 - val_acc: 0.9571\n",
      "Epoch 11/200\n",
      " - 9s - loss: 0.0692 - acc: 0.9733 - val_loss: 0.1396 - val_acc: 0.9606\n",
      "Epoch 12/200\n",
      " - 9s - loss: 0.0666 - acc: 0.9749 - val_loss: 0.1183 - val_acc: 0.9657\n",
      "Epoch 13/200\n",
      " - 9s - loss: 0.0627 - acc: 0.9769 - val_loss: 0.1573 - val_acc: 0.9640\n",
      "Epoch 14/200\n",
      " - 9s - loss: 0.0648 - acc: 0.9752 - val_loss: 0.1113 - val_acc: 0.9606\n",
      "Epoch 15/200\n",
      " - 9s - loss: 0.0641 - acc: 0.9771 - val_loss: 0.1182 - val_acc: 0.9589\n",
      "Epoch 16/200\n",
      " - 9s - loss: 0.0674 - acc: 0.9754 - val_loss: 0.1342 - val_acc: 0.9611\n",
      "Epoch 17/200\n",
      " - 9s - loss: 0.0614 - acc: 0.9785 - val_loss: 0.1164 - val_acc: 0.9617\n",
      "Epoch 18/200\n",
      " - 9s - loss: 0.0632 - acc: 0.9767 - val_loss: 0.1556 - val_acc: 0.9549\n",
      "Epoch 19/200\n",
      " - 9s - loss: 0.0618 - acc: 0.9770 - val_loss: 0.1163 - val_acc: 0.9634\n",
      "Epoch 20/200\n",
      " - 9s - loss: 0.0544 - acc: 0.9803 - val_loss: 0.0985 - val_acc: 0.9634\n",
      "Epoch 21/200\n",
      " - 9s - loss: 0.0507 - acc: 0.9813 - val_loss: 0.1225 - val_acc: 0.9606\n",
      "Epoch 22/200\n",
      " - 9s - loss: 0.0481 - acc: 0.9825 - val_loss: 0.1124 - val_acc: 0.9663\n",
      "Epoch 23/200\n",
      " - 9s - loss: 0.0534 - acc: 0.9806 - val_loss: 0.1867 - val_acc: 0.9560\n",
      "Epoch 24/200\n",
      " - 9s - loss: 0.0496 - acc: 0.9823 - val_loss: 0.1493 - val_acc: 0.9623\n",
      "Epoch 25/200\n",
      " - 9s - loss: 0.0504 - acc: 0.9818 - val_loss: 0.1357 - val_acc: 0.9594\n",
      "Epoch 26/200\n",
      " - 9s - loss: 0.0556 - acc: 0.9792 - val_loss: 0.1165 - val_acc: 0.9646\n",
      "Epoch 27/200\n",
      " - 9s - loss: 0.0499 - acc: 0.9826 - val_loss: 0.1230 - val_acc: 0.9583\n",
      "Epoch 28/200\n",
      " - 9s - loss: 0.0494 - acc: 0.9822 - val_loss: 0.1177 - val_acc: 0.9663\n",
      "Epoch 29/200\n",
      " - 9s - loss: 0.0500 - acc: 0.9817 - val_loss: 0.1417 - val_acc: 0.9606\n",
      "Epoch 30/200\n",
      " - 9s - loss: 0.0499 - acc: 0.9827 - val_loss: 0.0996 - val_acc: 0.9714\n",
      "Epoch 31/200\n",
      " - 9s - loss: 0.0437 - acc: 0.9830 - val_loss: 0.1440 - val_acc: 0.9617\n",
      "Epoch 32/200\n",
      " - 9s - loss: 0.0449 - acc: 0.9838 - val_loss: 0.1709 - val_acc: 0.9629\n",
      "Epoch 33/200\n",
      " - 9s - loss: 0.0467 - acc: 0.9837 - val_loss: 0.1124 - val_acc: 0.9691\n",
      "Epoch 34/200\n",
      " - 9s - loss: 0.0466 - acc: 0.9841 - val_loss: 0.1009 - val_acc: 0.9623\n",
      "Epoch 35/200\n",
      " - 9s - loss: 0.0466 - acc: 0.9836 - val_loss: 0.1037 - val_acc: 0.9686\n",
      "Epoch 36/200\n",
      " - 9s - loss: 0.0492 - acc: 0.9826 - val_loss: 0.0951 - val_acc: 0.9680\n",
      "Epoch 37/200\n",
      " - 9s - loss: 0.0426 - acc: 0.9850 - val_loss: 0.0939 - val_acc: 0.9680\n",
      "Epoch 38/200\n",
      " - 9s - loss: 0.0449 - acc: 0.9847 - val_loss: 0.1366 - val_acc: 0.9577\n",
      "Epoch 39/200\n",
      " - 9s - loss: 0.0434 - acc: 0.9851 - val_loss: 0.1362 - val_acc: 0.9657\n",
      "Epoch 40/200\n",
      " - 9s - loss: 0.0427 - acc: 0.9862 - val_loss: 0.0897 - val_acc: 0.9731\n",
      "Epoch 41/200\n",
      " - 9s - loss: 0.0473 - acc: 0.9818 - val_loss: 0.1347 - val_acc: 0.9663\n",
      "Epoch 42/200\n",
      " - 9s - loss: 0.0416 - acc: 0.9858 - val_loss: 0.1157 - val_acc: 0.9703\n",
      "Epoch 43/200\n",
      " - 9s - loss: 0.0455 - acc: 0.9843 - val_loss: 0.0994 - val_acc: 0.9703\n",
      "Epoch 44/200\n",
      " - 9s - loss: 0.0387 - acc: 0.9852 - val_loss: 0.1306 - val_acc: 0.9634\n",
      "Epoch 45/200\n",
      " - 9s - loss: 0.0418 - acc: 0.9871 - val_loss: 0.1250 - val_acc: 0.9663\n",
      "Epoch 46/200\n",
      " - 9s - loss: 0.0431 - acc: 0.9846 - val_loss: 0.1437 - val_acc: 0.9646\n",
      "Epoch 47/200\n",
      " - 9s - loss: 0.0403 - acc: 0.9857 - val_loss: 0.1062 - val_acc: 0.9629\n",
      "Epoch 48/200\n",
      " - 9s - loss: 0.0385 - acc: 0.9872 - val_loss: 0.1094 - val_acc: 0.9680\n",
      "Epoch 49/200\n",
      " - 9s - loss: 0.0405 - acc: 0.9861 - val_loss: 0.1211 - val_acc: 0.9674\n",
      "Epoch 50/200\n",
      " - 9s - loss: 0.0433 - acc: 0.9856 - val_loss: 0.1025 - val_acc: 0.9709\n",
      "Epoch 51/200\n",
      " - 9s - loss: 0.0437 - acc: 0.9851 - val_loss: 0.1141 - val_acc: 0.9646\n",
      "Epoch 52/200\n",
      " - 10s - loss: 0.0426 - acc: 0.9857 - val_loss: 0.1367 - val_acc: 0.9640\n",
      "Epoch 53/200\n",
      " - 9s - loss: 0.0392 - acc: 0.9853 - val_loss: 0.1152 - val_acc: 0.9703\n",
      "Epoch 54/200\n",
      " - 9s - loss: 0.0347 - acc: 0.9874 - val_loss: 0.1188 - val_acc: 0.9669\n",
      "Epoch 55/200\n",
      " - 9s - loss: 0.0400 - acc: 0.9862 - val_loss: 0.1071 - val_acc: 0.9669\n",
      "Epoch 56/200\n",
      " - 9s - loss: 0.0402 - acc: 0.9869 - val_loss: 0.1391 - val_acc: 0.9663\n",
      "Epoch 57/200\n",
      " - 9s - loss: 0.0351 - acc: 0.9866 - val_loss: 0.1327 - val_acc: 0.9634\n",
      "Epoch 58/200\n",
      " - 9s - loss: 0.0409 - acc: 0.9863 - val_loss: 0.0898 - val_acc: 0.9691\n",
      "Epoch 59/200\n",
      " - 9s - loss: 0.0352 - acc: 0.9867 - val_loss: 0.1079 - val_acc: 0.9691\n",
      "Epoch 60/200\n",
      " - 9s - loss: 0.0382 - acc: 0.9870 - val_loss: 0.1073 - val_acc: 0.9709\n",
      "Epoch 61/200\n",
      " - 9s - loss: 0.0335 - acc: 0.9882 - val_loss: 0.0816 - val_acc: 0.9731\n",
      "Epoch 62/200\n",
      " - 9s - loss: 0.0312 - acc: 0.9890 - val_loss: 0.1012 - val_acc: 0.9726\n",
      "Epoch 63/200\n",
      " - 9s - loss: 0.0322 - acc: 0.9869 - val_loss: 0.1393 - val_acc: 0.9640\n",
      "Epoch 64/200\n",
      " - 9s - loss: 0.0375 - acc: 0.9882 - val_loss: 0.0886 - val_acc: 0.9743\n",
      "Epoch 65/200\n",
      " - 9s - loss: 0.0385 - acc: 0.9863 - val_loss: 0.1114 - val_acc: 0.9674\n",
      "Epoch 66/200\n",
      " - 9s - loss: 0.0402 - acc: 0.9872 - val_loss: 0.1075 - val_acc: 0.9686\n",
      "Epoch 67/200\n",
      " - 9s - loss: 0.0382 - acc: 0.9863 - val_loss: 0.0929 - val_acc: 0.9754\n",
      "Epoch 68/200\n",
      " - 9s - loss: 0.0332 - acc: 0.9884 - val_loss: 0.0964 - val_acc: 0.9691\n",
      "Epoch 69/200\n",
      " - 9s - loss: 0.0372 - acc: 0.9869 - val_loss: 0.0908 - val_acc: 0.9726\n",
      "Epoch 70/200\n",
      " - 9s - loss: 0.0354 - acc: 0.9863 - val_loss: 0.1079 - val_acc: 0.9726\n",
      "Epoch 71/200\n",
      " - 9s - loss: 0.0354 - acc: 0.9870 - val_loss: 0.1304 - val_acc: 0.9686\n",
      "Epoch 72/200\n",
      " - 9s - loss: 0.0358 - acc: 0.9881 - val_loss: 0.1406 - val_acc: 0.9646\n",
      "Epoch 73/200\n",
      " - 9s - loss: 0.0361 - acc: 0.9876 - val_loss: 0.1522 - val_acc: 0.9629\n",
      "Epoch 74/200\n",
      " - 9s - loss: 0.0373 - acc: 0.9874 - val_loss: 0.1314 - val_acc: 0.9651\n",
      "Epoch 75/200\n",
      " - 9s - loss: 0.0286 - acc: 0.9910 - val_loss: 0.1057 - val_acc: 0.9651\n",
      "Epoch 76/200\n",
      " - 9s - loss: 0.0366 - acc: 0.9880 - val_loss: 0.1312 - val_acc: 0.9646\n",
      "Epoch 77/200\n",
      " - 9s - loss: 0.0358 - acc: 0.9891 - val_loss: 0.1186 - val_acc: 0.9640\n",
      "Epoch 78/200\n",
      " - 9s - loss: 0.0322 - acc: 0.9893 - val_loss: 0.1299 - val_acc: 0.9651\n",
      "Epoch 79/200\n",
      " - 9s - loss: 0.0307 - acc: 0.9888 - val_loss: 0.1385 - val_acc: 0.9669\n",
      "Epoch 80/200\n",
      " - 9s - loss: 0.0319 - acc: 0.9886 - val_loss: 0.1193 - val_acc: 0.9697\n",
      "Epoch 81/200\n",
      " - 9s - loss: 0.0379 - acc: 0.9869 - val_loss: 0.1290 - val_acc: 0.9674\n",
      "Epoch 82/200\n",
      " - 9s - loss: 0.0354 - acc: 0.9881 - val_loss: 0.1221 - val_acc: 0.9669\n",
      "Epoch 83/200\n",
      " - 9s - loss: 0.0313 - acc: 0.9895 - val_loss: 0.1272 - val_acc: 0.9720\n",
      "Epoch 84/200\n",
      " - 9s - loss: 0.0320 - acc: 0.9884 - val_loss: 0.1327 - val_acc: 0.9680\n",
      "Epoch 85/200\n",
      " - 10s - loss: 0.0338 - acc: 0.9891 - val_loss: 0.1677 - val_acc: 0.9674\n",
      "Epoch 86/200\n",
      " - 9s - loss: 0.0330 - acc: 0.9890 - val_loss: 0.1790 - val_acc: 0.9646\n",
      "Epoch 87/200\n",
      " - 9s - loss: 0.0292 - acc: 0.9896 - val_loss: 0.1756 - val_acc: 0.9611\n",
      "Epoch 88/200\n",
      " - 9s - loss: 0.0311 - acc: 0.9888 - val_loss: 0.1714 - val_acc: 0.9651\n",
      "Epoch 89/200\n",
      " - 9s - loss: 0.0385 - acc: 0.9873 - val_loss: 0.1363 - val_acc: 0.9646\n",
      "Epoch 90/200\n",
      " - 9s - loss: 0.0361 - acc: 0.9881 - val_loss: 0.1364 - val_acc: 0.9646\n",
      "Epoch 91/200\n",
      " - 9s - loss: 0.0308 - acc: 0.9899 - val_loss: 0.1210 - val_acc: 0.9703\n",
      "Epoch 92/200\n",
      " - 9s - loss: 0.0303 - acc: 0.9903 - val_loss: 0.1388 - val_acc: 0.9691\n",
      "Epoch 93/200\n",
      " - 9s - loss: 0.0350 - acc: 0.9887 - val_loss: 0.1387 - val_acc: 0.9663\n",
      "Epoch 94/200\n",
      " - 9s - loss: 0.0306 - acc: 0.9909 - val_loss: 0.1420 - val_acc: 0.9657\n",
      "Epoch 95/200\n",
      " - 9s - loss: 0.0305 - acc: 0.9895 - val_loss: 0.1120 - val_acc: 0.9697\n",
      "Epoch 96/200\n",
      " - 9s - loss: 0.0349 - acc: 0.9886 - val_loss: 0.1198 - val_acc: 0.9697\n",
      "Epoch 97/200\n",
      " - 9s - loss: 0.0323 - acc: 0.9894 - val_loss: 0.1349 - val_acc: 0.9686\n",
      "Epoch 98/200\n",
      " - 9s - loss: 0.0298 - acc: 0.9898 - val_loss: 0.1103 - val_acc: 0.9720\n",
      "Epoch 99/200\n",
      " - 9s - loss: 0.0295 - acc: 0.9903 - val_loss: 0.1240 - val_acc: 0.9674\n",
      "Epoch 100/200\n",
      " - 9s - loss: 0.0258 - acc: 0.9900 - val_loss: 0.1576 - val_acc: 0.9640\n",
      "Epoch 101/200\n",
      " - 9s - loss: 0.0346 - acc: 0.9895 - val_loss: 0.1331 - val_acc: 0.9629\n",
      "Epoch 102/200\n",
      " - 9s - loss: 0.0321 - acc: 0.9893 - val_loss: 0.1417 - val_acc: 0.9669\n",
      "Epoch 103/200\n",
      " - 9s - loss: 0.0367 - acc: 0.9880 - val_loss: 0.1692 - val_acc: 0.9634\n",
      "Epoch 104/200\n",
      " - 9s - loss: 0.0304 - acc: 0.9896 - val_loss: 0.1250 - val_acc: 0.9680\n",
      "Epoch 105/200\n",
      " - 9s - loss: 0.0300 - acc: 0.9893 - val_loss: 0.1167 - val_acc: 0.9691\n",
      "Epoch 106/200\n",
      " - 9s - loss: 0.0346 - acc: 0.9876 - val_loss: 0.1472 - val_acc: 0.9669\n",
      "Epoch 107/200\n",
      " - 9s - loss: 0.0303 - acc: 0.9895 - val_loss: 0.1357 - val_acc: 0.9646\n",
      "Epoch 108/200\n",
      " - 9s - loss: 0.0321 - acc: 0.9895 - val_loss: 0.1506 - val_acc: 0.9617\n",
      "Epoch 109/200\n",
      " - 9s - loss: 0.0296 - acc: 0.9901 - val_loss: 0.1514 - val_acc: 0.9617\n",
      "Epoch 110/200\n",
      " - 9s - loss: 0.0291 - acc: 0.9899 - val_loss: 0.1423 - val_acc: 0.9634\n",
      "Epoch 111/200\n",
      " - 9s - loss: 0.0290 - acc: 0.9897 - val_loss: 0.1326 - val_acc: 0.9634\n",
      "Epoch 112/200\n",
      " - 9s - loss: 0.0349 - acc: 0.9887 - val_loss: 0.1144 - val_acc: 0.9703\n",
      "Epoch 113/200\n",
      " - 9s - loss: 0.0281 - acc: 0.9903 - val_loss: 0.1128 - val_acc: 0.9674\n",
      "Epoch 114/200\n",
      " - 9s - loss: 0.0297 - acc: 0.9893 - val_loss: 0.1062 - val_acc: 0.9709\n",
      "Epoch 115/200\n",
      " - 9s - loss: 0.0297 - acc: 0.9898 - val_loss: 0.1242 - val_acc: 0.9663\n",
      "Epoch 116/200\n",
      " - 9s - loss: 0.0305 - acc: 0.9902 - val_loss: 0.1192 - val_acc: 0.9691\n",
      "Epoch 117/200\n",
      " - 9s - loss: 0.0334 - acc: 0.9887 - val_loss: 0.0977 - val_acc: 0.9697\n",
      "Epoch 118/200\n",
      " - 9s - loss: 0.0300 - acc: 0.9893 - val_loss: 0.1054 - val_acc: 0.9714\n",
      "Epoch 119/200\n",
      " - 9s - loss: 0.0281 - acc: 0.9900 - val_loss: 0.1250 - val_acc: 0.9674\n",
      "Epoch 120/200\n",
      " - 9s - loss: 0.0313 - acc: 0.9895 - val_loss: 0.1124 - val_acc: 0.9651\n",
      "Epoch 121/200\n",
      " - 9s - loss: 0.0286 - acc: 0.9897 - val_loss: 0.1309 - val_acc: 0.9686\n",
      "Epoch 122/200\n",
      " - 9s - loss: 0.0297 - acc: 0.9907 - val_loss: 0.1313 - val_acc: 0.9669\n",
      "Epoch 123/200\n",
      " - 9s - loss: 0.0291 - acc: 0.9908 - val_loss: 0.1560 - val_acc: 0.9623\n",
      "Epoch 124/200\n",
      " - 9s - loss: 0.0289 - acc: 0.9901 - val_loss: 0.0970 - val_acc: 0.9720\n",
      "Epoch 125/200\n",
      " - 9s - loss: 0.0241 - acc: 0.9923 - val_loss: 0.1489 - val_acc: 0.9674\n",
      "Epoch 126/200\n",
      " - 9s - loss: 0.0354 - acc: 0.9891 - val_loss: 0.1428 - val_acc: 0.9617\n",
      "Epoch 127/200\n",
      " - 9s - loss: 0.0270 - acc: 0.9910 - val_loss: 0.1101 - val_acc: 0.9686\n",
      "Epoch 128/200\n",
      " - 9s - loss: 0.0297 - acc: 0.9909 - val_loss: 0.1146 - val_acc: 0.9686\n",
      "Epoch 129/200\n",
      " - 9s - loss: 0.0289 - acc: 0.9907 - val_loss: 0.1101 - val_acc: 0.9749\n",
      "Epoch 130/200\n",
      " - 9s - loss: 0.0296 - acc: 0.9905 - val_loss: 0.1281 - val_acc: 0.9640\n",
      "Epoch 131/200\n",
      " - 9s - loss: 0.0314 - acc: 0.9895 - val_loss: 0.1195 - val_acc: 0.9669\n",
      "Epoch 132/200\n",
      " - 9s - loss: 0.0328 - acc: 0.9877 - val_loss: 0.1298 - val_acc: 0.9680\n",
      "Epoch 133/200\n",
      " - 9s - loss: 0.0245 - acc: 0.9912 - val_loss: 0.1251 - val_acc: 0.9691\n",
      "Epoch 134/200\n",
      " - 9s - loss: 0.0242 - acc: 0.9919 - val_loss: 0.1327 - val_acc: 0.9663\n",
      "Epoch 135/200\n",
      " - 9s - loss: 0.0300 - acc: 0.9897 - val_loss: 0.1707 - val_acc: 0.9663\n",
      "Epoch 136/200\n",
      " - 9s - loss: 0.0308 - acc: 0.9911 - val_loss: 0.1195 - val_acc: 0.9726\n",
      "Epoch 137/200\n",
      " - 9s - loss: 0.0308 - acc: 0.9893 - val_loss: 0.1392 - val_acc: 0.9669\n",
      "Epoch 138/200\n",
      " - 9s - loss: 0.0286 - acc: 0.9907 - val_loss: 0.1409 - val_acc: 0.9657\n",
      "Epoch 139/200\n",
      " - 9s - loss: 0.0282 - acc: 0.9899 - val_loss: 0.1234 - val_acc: 0.9686\n",
      "Epoch 140/200\n",
      " - 9s - loss: 0.0320 - acc: 0.9896 - val_loss: 0.1280 - val_acc: 0.9657\n",
      "Epoch 141/200\n",
      " - 9s - loss: 0.0298 - acc: 0.9903 - val_loss: 0.1433 - val_acc: 0.9697\n",
      "Epoch 142/200\n",
      " - 9s - loss: 0.0241 - acc: 0.9916 - val_loss: 0.1454 - val_acc: 0.9680\n",
      "Epoch 143/200\n",
      " - 9s - loss: 0.0318 - acc: 0.9897 - val_loss: 0.1335 - val_acc: 0.9686\n",
      "Epoch 144/200\n",
      " - 9s - loss: 0.0223 - acc: 0.9926 - val_loss: 0.1170 - val_acc: 0.9709\n",
      "Epoch 145/200\n",
      " - 9s - loss: 0.0285 - acc: 0.9906 - val_loss: 0.1302 - val_acc: 0.9663\n",
      "Epoch 146/200\n",
      " - 9s - loss: 0.0282 - acc: 0.9903 - val_loss: 0.1325 - val_acc: 0.9680\n",
      "Epoch 147/200\n",
      " - 9s - loss: 0.0265 - acc: 0.9917 - val_loss: 0.1747 - val_acc: 0.9663\n",
      "Epoch 148/200\n",
      " - 9s - loss: 0.0271 - acc: 0.9905 - val_loss: 0.1177 - val_acc: 0.9680\n",
      "Epoch 149/200\n",
      " - 9s - loss: 0.0331 - acc: 0.9900 - val_loss: 0.1236 - val_acc: 0.9669\n",
      "Epoch 150/200\n",
      " - 9s - loss: 0.0290 - acc: 0.9917 - val_loss: 0.1271 - val_acc: 0.9640\n",
      "Epoch 151/200\n",
      " - 9s - loss: 0.0300 - acc: 0.9896 - val_loss: 0.1116 - val_acc: 0.9697\n",
      "Epoch 152/200\n",
      " - 9s - loss: 0.0294 - acc: 0.9906 - val_loss: 0.1317 - val_acc: 0.9686\n",
      "Epoch 153/200\n",
      " - 9s - loss: 0.0246 - acc: 0.9911 - val_loss: 0.1207 - val_acc: 0.9674\n",
      "Epoch 154/200\n",
      " - 9s - loss: 0.0292 - acc: 0.9897 - val_loss: 0.1262 - val_acc: 0.9691\n",
      "Epoch 155/200\n",
      " - 9s - loss: 0.0285 - acc: 0.9900 - val_loss: 0.1370 - val_acc: 0.9651\n",
      "Epoch 156/200\n",
      " - 9s - loss: 0.0277 - acc: 0.9907 - val_loss: 0.1237 - val_acc: 0.9691\n",
      "Epoch 157/200\n",
      " - 9s - loss: 0.0258 - acc: 0.9919 - val_loss: 0.1029 - val_acc: 0.9726\n",
      "Epoch 158/200\n",
      " - 9s - loss: 0.0272 - acc: 0.9905 - val_loss: 0.1734 - val_acc: 0.9634\n",
      "Epoch 159/200\n",
      " - 9s - loss: 0.0278 - acc: 0.9907 - val_loss: 0.1186 - val_acc: 0.9646\n",
      "Epoch 160/200\n",
      " - 9s - loss: 0.0281 - acc: 0.9915 - val_loss: 0.1509 - val_acc: 0.9629\n",
      "Epoch 161/200\n",
      " - 9s - loss: 0.0305 - acc: 0.9901 - val_loss: 0.1386 - val_acc: 0.9669\n",
      "Epoch 162/200\n",
      " - 9s - loss: 0.0287 - acc: 0.9910 - val_loss: 0.0909 - val_acc: 0.9709\n",
      "Epoch 163/200\n",
      " - 9s - loss: 0.0279 - acc: 0.9914 - val_loss: 0.1258 - val_acc: 0.9646\n",
      "Epoch 164/200\n",
      " - 9s - loss: 0.0241 - acc: 0.9916 - val_loss: 0.1420 - val_acc: 0.9663\n",
      "Epoch 165/200\n",
      " - 9s - loss: 0.0242 - acc: 0.9923 - val_loss: 0.1413 - val_acc: 0.9674\n",
      "Epoch 166/200\n",
      " - 9s - loss: 0.0273 - acc: 0.9912 - val_loss: 0.1236 - val_acc: 0.9703\n",
      "Epoch 167/200\n",
      " - 9s - loss: 0.0241 - acc: 0.9914 - val_loss: 0.1355 - val_acc: 0.9697\n",
      "Epoch 168/200\n",
      " - 9s - loss: 0.0305 - acc: 0.9911 - val_loss: 0.1261 - val_acc: 0.9686\n",
      "Epoch 169/200\n",
      " - 9s - loss: 0.0295 - acc: 0.9914 - val_loss: 0.1487 - val_acc: 0.9640\n",
      "Epoch 170/200\n",
      " - 9s - loss: 0.0239 - acc: 0.9923 - val_loss: 0.1158 - val_acc: 0.9674\n",
      "Epoch 171/200\n",
      " - 9s - loss: 0.0230 - acc: 0.9923 - val_loss: 0.1118 - val_acc: 0.9669\n",
      "Epoch 172/200\n",
      " - 9s - loss: 0.0259 - acc: 0.9910 - val_loss: 0.1253 - val_acc: 0.9646\n",
      "Epoch 173/200\n",
      " - 9s - loss: 0.0252 - acc: 0.9922 - val_loss: 0.1430 - val_acc: 0.9697\n",
      "Epoch 174/200\n",
      " - 9s - loss: 0.0242 - acc: 0.9919 - val_loss: 0.1590 - val_acc: 0.9680\n",
      "Epoch 175/200\n",
      " - 9s - loss: 0.0280 - acc: 0.9917 - val_loss: 0.1526 - val_acc: 0.9663\n",
      "Epoch 176/200\n",
      " - 9s - loss: 0.0264 - acc: 0.9919 - val_loss: 0.1233 - val_acc: 0.9714\n",
      "Epoch 177/200\n",
      " - 9s - loss: 0.0229 - acc: 0.9927 - val_loss: 0.1197 - val_acc: 0.9720\n",
      "Epoch 178/200\n",
      " - 9s - loss: 0.0237 - acc: 0.9928 - val_loss: 0.1470 - val_acc: 0.9657\n",
      "Epoch 179/200\n",
      " - 9s - loss: 0.0305 - acc: 0.9907 - val_loss: 0.1276 - val_acc: 0.9686\n",
      "Epoch 180/200\n",
      " - 9s - loss: 0.0257 - acc: 0.9915 - val_loss: 0.1683 - val_acc: 0.9646\n",
      "Epoch 181/200\n",
      " - 9s - loss: 0.0283 - acc: 0.9917 - val_loss: 0.1601 - val_acc: 0.9611\n",
      "Epoch 182/200\n",
      " - 9s - loss: 0.0207 - acc: 0.9929 - val_loss: 0.2198 - val_acc: 0.9600\n",
      "Epoch 183/200\n",
      " - 9s - loss: 0.0312 - acc: 0.9903 - val_loss: 0.2238 - val_acc: 0.9606\n",
      "Epoch 184/200\n",
      " - 9s - loss: 0.0302 - acc: 0.9903 - val_loss: 0.1253 - val_acc: 0.9669\n",
      "Epoch 185/200\n",
      " - 9s - loss: 0.0239 - acc: 0.9917 - val_loss: 0.1496 - val_acc: 0.9611\n",
      "Epoch 186/200\n",
      " - 9s - loss: 0.0262 - acc: 0.9917 - val_loss: 0.1321 - val_acc: 0.9669\n",
      "Epoch 187/200\n",
      " - 9s - loss: 0.0256 - acc: 0.9915 - val_loss: 0.1150 - val_acc: 0.9680\n",
      "Epoch 188/200\n",
      " - 9s - loss: 0.0251 - acc: 0.9926 - val_loss: 0.1238 - val_acc: 0.9674\n",
      "Epoch 189/200\n",
      " - 9s - loss: 0.0238 - acc: 0.9926 - val_loss: 0.1002 - val_acc: 0.9697\n",
      "Epoch 190/200\n",
      " - 9s - loss: 0.0250 - acc: 0.9923 - val_loss: 0.1172 - val_acc: 0.9686\n",
      "Epoch 191/200\n",
      " - 9s - loss: 0.0256 - acc: 0.9918 - val_loss: 0.1888 - val_acc: 0.9606\n",
      "Epoch 192/200\n",
      " - 9s - loss: 0.0299 - acc: 0.9914 - val_loss: 0.1087 - val_acc: 0.9674\n",
      "Epoch 193/200\n",
      " - 9s - loss: 0.0249 - acc: 0.9917 - val_loss: 0.1310 - val_acc: 0.9680\n",
      "Epoch 194/200\n",
      " - 9s - loss: 0.0301 - acc: 0.9899 - val_loss: 0.1493 - val_acc: 0.9617\n",
      "Epoch 195/200\n",
      " - 9s - loss: 0.0260 - acc: 0.9905 - val_loss: 0.1161 - val_acc: 0.9686\n",
      "Epoch 196/200\n",
      " - 9s - loss: 0.0250 - acc: 0.9916 - val_loss: 0.1188 - val_acc: 0.9640\n",
      "Epoch 197/200\n",
      " - 9s - loss: 0.0241 - acc: 0.9923 - val_loss: 0.1228 - val_acc: 0.9640\n",
      "Epoch 198/200\n",
      " - 9s - loss: 0.0253 - acc: 0.9917 - val_loss: 0.1280 - val_acc: 0.9657\n",
      "Epoch 199/200\n",
      " - 9s - loss: 0.0252 - acc: 0.9915 - val_loss: 0.1162 - val_acc: 0.9726\n",
      "Epoch 200/200\n",
      " - 9s - loss: 0.0275 - acc: 0.9912 - val_loss: 0.1046 - val_acc: 0.9749\n"
     ]
    },
    {
     "data": {
      "text/plain": [
       "<tensorflow.python.keras.callbacks.History at 0x7f26f9512358>"
      ]
     },
     "execution_count": 7,
     "metadata": {},
     "output_type": "execute_result"
    }
   ],
   "source": [
    "my_new_model.fit(X_tr,Y_tr,validation_split=0.1,epochs=200,batch_size=32,verbose = 2)"
   ]
  },
  {
   "cell_type": "code",
   "execution_count": 8,
   "metadata": {},
   "outputs": [],
   "source": [
    "for layer in my_new_model.layers:\n",
    "    weights = layer.get_weights() "
   ]
  },
  {
   "cell_type": "code",
   "execution_count": 9,
   "metadata": {},
   "outputs": [],
   "source": [
    "my_new_model.save_weights(\"my_weights.h5\")"
   ]
  },
  {
   "cell_type": "code",
   "execution_count": 10,
   "metadata": {},
   "outputs": [],
   "source": [
    "sub_df = pd.read_csv('../input/sample_submission.csv')"
   ]
  },
  {
   "cell_type": "code",
   "execution_count": 11,
   "metadata": {},
   "outputs": [
    {
     "data": {
      "application/vnd.jupyter.widget-view+json": {
       "model_id": "078dd16f1dc54f4685d1e4c8b549df41",
       "version_major": 2,
       "version_minor": 0
      },
      "text/plain": [
       "HBox(children=(IntProgress(value=0, max=4000), HTML(value='')))"
      ]
     },
     "metadata": {},
     "output_type": "display_data"
    },
    {
     "name": "stdout",
     "output_type": "stream",
     "text": [
      "\n"
     ]
    }
   ],
   "source": [
    "X_ts = []\n",
    "imges = sub_df['id'].values\n",
    "for img_id in tqdm_notebook(imges):\n",
    "    X_ts.append(cv2.imread(test_dir + img_id))    \n",
    "X_ts = np.asarray(X_ts)\n",
    "X_ts = X_ts.astype('float32')\n",
    "X_ts /= 255\n"
   ]
  },
  {
   "cell_type": "code",
   "execution_count": 12,
   "metadata": {},
   "outputs": [
    {
     "ename": "NameError",
     "evalue": "name 'results' is not defined",
     "output_type": "error",
     "traceback": [
      "\u001b[0;31m---------------------------------------------------------------------------\u001b[0m",
      "\u001b[0;31mNameError\u001b[0m                                 Traceback (most recent call last)",
      "\u001b[0;32m<ipython-input-12-2acad6a4fee3>\u001b[0m in \u001b[0;36m<module>\u001b[0;34m()\u001b[0m\n\u001b[1;32m      1\u001b[0m \u001b[0mX_ts\u001b[0m\u001b[0;34m.\u001b[0m\u001b[0mshape\u001b[0m\u001b[0;34m\u001b[0m\u001b[0m\n\u001b[0;32m----> 2\u001b[0;31m \u001b[0mprint\u001b[0m\u001b[0;34m(\u001b[0m\u001b[0mresults\u001b[0m\u001b[0;34m)\u001b[0m\u001b[0;34m\u001b[0m\u001b[0m\n\u001b[0m",
      "\u001b[0;31mNameError\u001b[0m: name 'results' is not defined"
     ]
    }
   ],
   "source": [
    "X_ts.shape\n",
    "print(results)"
   ]
  },
  {
   "cell_type": "code",
   "execution_count": 13,
   "metadata": {},
   "outputs": [
    {
     "name": "stderr",
     "output_type": "stream",
     "text": [
      "100%|██████████| 4000/4000 [01:25<00:00, 46.71it/s]\n"
     ]
    }
   ],
   "source": [
    "results= np.empty((sub_df.shape[0],))\n",
    "for n in tqdm(range(0,sub_df.shape[0])):\n",
    "    results[n] = my_new_model.predict(X_ts[n].reshape((1, 32, 32, 3)))[0][1]\n",
    "    #print (results)\n",
    "#results = np.argmax(results,axis = 1)"
   ]
  },
  {
   "cell_type": "code",
   "execution_count": 14,
   "metadata": {},
   "outputs": [
    {
     "data": {
      "text/html": [
       "<div>\n",
       "<style scoped>\n",
       "    .dataframe tbody tr th:only-of-type {\n",
       "        vertical-align: middle;\n",
       "    }\n",
       "\n",
       "    .dataframe tbody tr th {\n",
       "        vertical-align: top;\n",
       "    }\n",
       "\n",
       "    .dataframe thead th {\n",
       "        text-align: right;\n",
       "    }\n",
       "</style>\n",
       "<table border=\"1\" class=\"dataframe\">\n",
       "  <thead>\n",
       "    <tr style=\"text-align: right;\">\n",
       "      <th></th>\n",
       "      <th>has_cactus</th>\n",
       "    </tr>\n",
       "  </thead>\n",
       "  <tbody>\n",
       "    <tr>\n",
       "      <th>0</th>\n",
       "      <td>1.000000e+00</td>\n",
       "    </tr>\n",
       "    <tr>\n",
       "      <th>1</th>\n",
       "      <td>1.000000e+00</td>\n",
       "    </tr>\n",
       "    <tr>\n",
       "      <th>2</th>\n",
       "      <td>1.777402e-04</td>\n",
       "    </tr>\n",
       "    <tr>\n",
       "      <th>3</th>\n",
       "      <td>3.586429e-11</td>\n",
       "    </tr>\n",
       "    <tr>\n",
       "      <th>4</th>\n",
       "      <td>9.937993e-01</td>\n",
       "    </tr>\n",
       "  </tbody>\n",
       "</table>\n",
       "</div>"
      ],
      "text/plain": [
       "     has_cactus\n",
       "0  1.000000e+00\n",
       "1  1.000000e+00\n",
       "2  1.777402e-04\n",
       "3  3.586429e-11\n",
       "4  9.937993e-01"
      ]
     },
     "execution_count": 14,
     "metadata": {},
     "output_type": "execute_result"
    }
   ],
   "source": [
    "f=sub_df['id']\n",
    "results = pd.DataFrame(results,columns=['has_cactus'])\n",
    "\n",
    "#results['has_cactus'] = results['has_cactus'].apply(lambda x: 1 if x > 0.75 else 0)\n",
    "results.head()"
   ]
  },
  {
   "cell_type": "code",
   "execution_count": 15,
   "metadata": {},
   "outputs": [
    {
     "data": {
      "text/html": [
       "<div>\n",
       "<style scoped>\n",
       "    .dataframe tbody tr th:only-of-type {\n",
       "        vertical-align: middle;\n",
       "    }\n",
       "\n",
       "    .dataframe tbody tr th {\n",
       "        vertical-align: top;\n",
       "    }\n",
       "\n",
       "    .dataframe thead th {\n",
       "        text-align: right;\n",
       "    }\n",
       "</style>\n",
       "<table border=\"1\" class=\"dataframe\">\n",
       "  <thead>\n",
       "    <tr style=\"text-align: right;\">\n",
       "      <th></th>\n",
       "      <th>has_cactus</th>\n",
       "    </tr>\n",
       "  </thead>\n",
       "  <tbody>\n",
       "    <tr>\n",
       "      <th>0</th>\n",
       "      <td>1.000000e+00</td>\n",
       "    </tr>\n",
       "    <tr>\n",
       "      <th>1</th>\n",
       "      <td>1.000000e+00</td>\n",
       "    </tr>\n",
       "    <tr>\n",
       "      <th>2</th>\n",
       "      <td>1.777402e-04</td>\n",
       "    </tr>\n",
       "    <tr>\n",
       "      <th>3</th>\n",
       "      <td>3.586429e-11</td>\n",
       "    </tr>\n",
       "    <tr>\n",
       "      <th>4</th>\n",
       "      <td>9.937993e-01</td>\n",
       "    </tr>\n",
       "  </tbody>\n",
       "</table>\n",
       "</div>"
      ],
      "text/plain": [
       "     has_cactus\n",
       "0  1.000000e+00\n",
       "1  1.000000e+00\n",
       "2  1.777402e-04\n",
       "3  3.586429e-11\n",
       "4  9.937993e-01"
      ]
     },
     "execution_count": 15,
     "metadata": {},
     "output_type": "execute_result"
    }
   ],
   "source": [
    "results.head()"
   ]
  },
  {
   "cell_type": "code",
   "execution_count": 16,
   "metadata": {},
   "outputs": [],
   "source": [
    "submission = pd.concat([pd.Series(f,name ='id'),results],axis = 1)\n",
    "\n",
    "submission.to_csv(\"samplesubmission.csv\",index=False)"
   ]
  },
  {
   "cell_type": "code",
   "execution_count": 17,
   "metadata": {},
   "outputs": [
    {
     "data": {
      "text/html": [
       "<div>\n",
       "<style scoped>\n",
       "    .dataframe tbody tr th:only-of-type {\n",
       "        vertical-align: middle;\n",
       "    }\n",
       "\n",
       "    .dataframe tbody tr th {\n",
       "        vertical-align: top;\n",
       "    }\n",
       "\n",
       "    .dataframe thead th {\n",
       "        text-align: right;\n",
       "    }\n",
       "</style>\n",
       "<table border=\"1\" class=\"dataframe\">\n",
       "  <thead>\n",
       "    <tr style=\"text-align: right;\">\n",
       "      <th></th>\n",
       "      <th>id</th>\n",
       "      <th>has_cactus</th>\n",
       "    </tr>\n",
       "  </thead>\n",
       "  <tbody>\n",
       "    <tr>\n",
       "      <th>0</th>\n",
       "      <td>000940378805c44108d287872b2f04ce.jpg</td>\n",
       "      <td>1.000000e+00</td>\n",
       "    </tr>\n",
       "    <tr>\n",
       "      <th>1</th>\n",
       "      <td>0017242f54ececa4512b4d7937d1e21e.jpg</td>\n",
       "      <td>1.000000e+00</td>\n",
       "    </tr>\n",
       "    <tr>\n",
       "      <th>2</th>\n",
       "      <td>001ee6d8564003107853118ab87df407.jpg</td>\n",
       "      <td>1.777402e-04</td>\n",
       "    </tr>\n",
       "    <tr>\n",
       "      <th>3</th>\n",
       "      <td>002e175c3c1e060769475f52182583d0.jpg</td>\n",
       "      <td>3.586429e-11</td>\n",
       "    </tr>\n",
       "    <tr>\n",
       "      <th>4</th>\n",
       "      <td>0036e44a7e8f7218e9bc7bf8137e4943.jpg</td>\n",
       "      <td>9.937993e-01</td>\n",
       "    </tr>\n",
       "  </tbody>\n",
       "</table>\n",
       "</div>"
      ],
      "text/plain": [
       "                                     id    has_cactus\n",
       "0  000940378805c44108d287872b2f04ce.jpg  1.000000e+00\n",
       "1  0017242f54ececa4512b4d7937d1e21e.jpg  1.000000e+00\n",
       "2  001ee6d8564003107853118ab87df407.jpg  1.777402e-04\n",
       "3  002e175c3c1e060769475f52182583d0.jpg  3.586429e-11\n",
       "4  0036e44a7e8f7218e9bc7bf8137e4943.jpg  9.937993e-01"
      ]
     },
     "execution_count": 17,
     "metadata": {},
     "output_type": "execute_result"
    }
   ],
   "source": [
    "submission.head()"
   ]
  },
  {
   "cell_type": "code",
   "execution_count": 18,
   "metadata": {},
   "outputs": [],
   "source": []
  }
 ],
 "metadata": {
  "kernelspec": {
   "display_name": "Python 3",
   "language": "python",
   "name": "python3"
  },
  "language_info": {
   "codemirror_mode": {
    "name": "ipython",
    "version": 3
   },
   "file_extension": ".py",
   "mimetype": "text/x-python",
   "name": "python",
   "nbconvert_exporter": "python",
   "pygments_lexer": "ipython3",
   "version": "3.6.4"
  }
 },
 "nbformat": 4,
 "nbformat_minor": 1
}
